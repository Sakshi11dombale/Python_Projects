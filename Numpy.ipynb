{
 "cells": [
  {
   "cell_type": "markdown",
   "id": "97e86859-e213-4ab6-85e2-a9e9d5f5b205",
   "metadata": {},
   "source": [
    "# Numpy"
   ]
  },
  {
   "cell_type": "code",
   "execution_count": 1,
   "id": "00b8ed0f-f0b6-4ea7-8d1a-28de3694e044",
   "metadata": {},
   "outputs": [],
   "source": [
    "import numpy as np"
   ]
  },
  {
   "cell_type": "markdown",
   "id": "3989bd98-aeb5-46aa-a9bb-8bb37341ad84",
   "metadata": {},
   "source": [
    "### Checking version of library"
   ]
  },
  {
   "cell_type": "markdown",
   "id": "54216d6a-f717-4a4a-93ed-f6b0417764c0",
   "metadata": {},
   "source": [
    "print(np.__version__)"
   ]
  },
  {
   "cell_type": "markdown",
   "id": "06d1f449-96cf-40a4-ba4b-5b50276b2c4c",
   "metadata": {},
   "source": [
    "## 0D Matrix OR Scalar"
   ]
  },
  {
   "cell_type": "code",
   "execution_count": 10,
   "id": "3147daac-b4d6-44c1-9708-568ab276f796",
   "metadata": {},
   "outputs": [
    {
     "name": "stdout",
     "output_type": "stream",
     "text": [
      "55\n",
      "<class 'numpy.ndarray'>\n",
      "0\n"
     ]
    }
   ],
   "source": [
    "x1=np.array(55)\n",
    "print(55)\n",
    "print(type(x1))\n",
    "print(x1.ndim)"
   ]
  },
  {
   "cell_type": "markdown",
   "id": "091f16e8-394d-46e5-83ca-ac800ffd5422",
   "metadata": {},
   "source": [
    "## 1D Matrix OR Vector"
   ]
  },
  {
   "cell_type": "code",
   "execution_count": 7,
   "id": "074dc0ac-1be2-4380-85d4-e72ae3125257",
   "metadata": {},
   "outputs": [
    {
     "name": "stdout",
     "output_type": "stream",
     "text": [
      "[1 2 3 4 5 6]\n",
      "<class 'numpy.ndarray'>\n"
     ]
    }
   ],
   "source": [
    "x2=np.array([1,2,3,4,5,6])\n",
    "print(x2)\n",
    "print(type(x2))\n"
   ]
  },
  {
   "cell_type": "markdown",
   "id": "04101249-0e00-4a80-b9e1-9efd832a8bd8",
   "metadata": {},
   "source": [
    "## 2D Matrix"
   ]
  },
  {
   "cell_type": "code",
   "execution_count": 38,
   "id": "514ebfdc-be94-47be-b0f2-c77ae6d087f0",
   "metadata": {},
   "outputs": [
    {
     "name": "stdout",
     "output_type": "stream",
     "text": [
      "[[[1 2]\n",
      "  [3 4]]\n",
      "\n",
      " [[5 6]\n",
      "  [7 8]]]\n",
      "<class 'numpy.ndarray'>\n",
      "3\n",
      "(2, 2, 2)\n"
     ]
    }
   ],
   "source": [
    "x3=np.array([[[1,2],[3,4]],[[5,6],[7,8]]])\n",
    "print(x3)\n",
    "print(type(x3))\n",
    "print(x3.ndim)\n",
    "print(x3.shape)"
   ]
  },
  {
   "cell_type": "markdown",
   "id": "c668764a-080c-41ea-85f8-d251da2b5476",
   "metadata": {},
   "source": [
    "## 3D Matrix"
   ]
  },
  {
   "cell_type": "code",
   "execution_count": 42,
   "id": "1f310078-7ea0-4653-b1eb-6df17f16c472",
   "metadata": {},
   "outputs": [
    {
     "name": "stdout",
     "output_type": "stream",
     "text": [
      "[[[[ 1  2]\n",
      "   [ 3  4]]\n",
      "\n",
      "  [[ 5  6]\n",
      "   [ 7  8]]]\n",
      "\n",
      "\n",
      " [[[ 9 10]\n",
      "   [11 12]]\n",
      "\n",
      "  [[13 14]\n",
      "   [15 16]]]]\n",
      "4\n",
      "(2, 2, 2, 2)\n"
     ]
    }
   ],
   "source": [
    "x4=np.array([[[[1,2],[3,4]],[[5,6],[7,8]]],[[[9,10],[11,12]],[[13,14],[15,16]]]])\n",
    "print(x4)\n",
    "print(x4.ndim)\n",
    "print(x4.shape)"
   ]
  },
  {
   "cell_type": "markdown",
   "id": "548ac48a-1633-4190-8040-098ae3b4c926",
   "metadata": {},
   "source": [
    "## Coverting 1D to 5D Matrix"
   ]
  },
  {
   "cell_type": "code",
   "execution_count": 112,
   "id": "24ff6a68-ebb9-4c6f-8114-250c895c8a01",
   "metadata": {},
   "outputs": [
    {
     "name": "stdout",
     "output_type": "stream",
     "text": [
      "[ 1  2  3  4  5  6  7  8  9 10 11 12]\n",
      "<class 'numpy.ndarray'>\n",
      "**************************************************\n",
      "[[[[[ 1]\n",
      "    [ 2]]\n",
      "\n",
      "   [[ 3]\n",
      "    [ 4]]]]\n",
      "\n",
      "\n",
      "\n",
      " [[[[ 5]\n",
      "    [ 6]]\n",
      "\n",
      "   [[ 7]\n",
      "    [ 8]]]]\n",
      "\n",
      "\n",
      "\n",
      " [[[[ 9]\n",
      "    [10]]\n",
      "\n",
      "   [[11]\n",
      "    [12]]]]]\n",
      "<class 'numpy.ndarray'>\n",
      "5\n",
      "(3, 1, 2, 2, 1)\n"
     ]
    }
   ],
   "source": [
    "x5=np.array([1,2,3,4,5,6,7,8,9,10,11,12])\n",
    "print(x5)\n",
    "print(type(x5))\n",
    "print(\"*\"*50)\n",
    "x6=x5.reshape(3,1,2,2,1)\n",
    "print(x6)\n",
    "print(type(x6))\n",
    "print(x6.ndim)\n",
    "print(x6.shape)"
   ]
  },
  {
   "cell_type": "markdown",
   "id": "d90eb676-9a31-4ee2-80dc-316df6121ee8",
   "metadata": {},
   "source": [
    "## Solving Linear Algebra"
   ]
  },
  {
   "cell_type": "code",
   "execution_count": 134,
   "id": "86b72d9b-b960-48f5-96fb-6bf336a9d406",
   "metadata": {},
   "outputs": [
    {
     "name": "stdout",
     "output_type": "stream",
     "text": [
      "[0.19708029 1.45255474 2.97080292]\n"
     ]
    }
   ],
   "source": [
    "x1=np.array([[4,3,5],[-5,9,3],[15,-4,5]])\n",
    "y1=np.array([20,21,12])\n",
    "sol=np.linalg.solve(x1,y1)\n",
    "print(sol)\n"
   ]
  },
  {
   "cell_type": "code",
   "execution_count": 136,
   "id": "8c2be070-357b-4aa3-838a-4028bed00da9",
   "metadata": {},
   "outputs": [
    {
     "name": "stdout",
     "output_type": "stream",
     "text": [
      "[ 8.02831858 25.25132743  5.82300885]\n"
     ]
    }
   ],
   "source": [
    "x=np.array([[1,2,3],[23,-4,-2],[6,-3,8]])\n",
    "y=np.array([76,72,19])\n",
    "sol=np.linalg.solve(x,y)\n",
    "print(sol)"
   ]
  },
  {
   "cell_type": "markdown",
   "id": "e501c5f4-3850-414f-8b34-d383babe66cd",
   "metadata": {},
   "source": [
    "## Coverting Image Format into Matrix"
   ]
  },
  {
   "cell_type": "code",
   "execution_count": 142,
   "id": "c00ac4a8-2add-4990-8798-d1c4d6dede23",
   "metadata": {},
   "outputs": [
    {
     "data": {
      "text/plain": [
       "array([[[23, 27, 28],\n",
       "        [ 6, 10, 19],\n",
       "        [ 6, 12, 26],\n",
       "        ...,\n",
       "        [19, 19, 21],\n",
       "        [23, 19, 18],\n",
       "        [33, 25, 22]],\n",
       "\n",
       "       [[22, 26, 27],\n",
       "        [ 5,  9, 18],\n",
       "        [ 4, 10, 24],\n",
       "        ...,\n",
       "        [18, 18, 20],\n",
       "        [23, 19, 18],\n",
       "        [33, 25, 22]],\n",
       "\n",
       "       [[21, 25, 26],\n",
       "        [ 4,  8, 17],\n",
       "        [ 3,  9, 23],\n",
       "        ...,\n",
       "        [18, 18, 20],\n",
       "        [23, 19, 18],\n",
       "        [33, 25, 22]],\n",
       "\n",
       "       ...,\n",
       "\n",
       "       [[24, 26, 23],\n",
       "        [ 0,  0,  5],\n",
       "        [ 5,  5, 17],\n",
       "        ...,\n",
       "        [29, 23, 23],\n",
       "        [34, 24, 22],\n",
       "        [42, 31, 27]],\n",
       "\n",
       "       [[25, 27, 24],\n",
       "        [ 0,  1,  6],\n",
       "        [ 4,  6, 18],\n",
       "        ...,\n",
       "        [30, 24, 24],\n",
       "        [33, 25, 22],\n",
       "        [42, 31, 27]],\n",
       "\n",
       "       [[27, 29, 26],\n",
       "        [ 2,  3,  8],\n",
       "        [ 7,  9, 21],\n",
       "        ...,\n",
       "        [30, 24, 24],\n",
       "        [33, 25, 22],\n",
       "        [42, 31, 27]]], dtype=uint8)"
      ]
     },
     "execution_count": 142,
     "metadata": {},
     "output_type": "execute_result"
    }
   ],
   "source": [
    "from matplotlib.image import imread\n",
    "hi=imread(\"C://Users//abc//Downloads//ganapati1.jpg\")\n",
    "hi"
   ]
  },
  {
   "cell_type": "markdown",
   "id": "ed025d5f-f69b-4b2a-bd85-08a20a281bc2",
   "metadata": {},
   "source": [
    "# Matrix Solving"
   ]
  },
  {
   "cell_type": "code",
   "execution_count": 151,
   "id": "661fa9e5-178f-4405-aa61-ebe4c218ca97",
   "metadata": {},
   "outputs": [
    {
     "name": "stdout",
     "output_type": "stream",
     "text": [
      "[[ 1.+0.j  0.+2.j 32.+0.j]\n",
      " [ 4.+0.j  0.+5.j  3.+0.j]\n",
      " [ 3.+0.j  0.+4.j  6.+0.j]]\n",
      "____________________________________________________________________________________________________\n",
      "3\n",
      "____________________________________________________________________________________________________\n",
      "(7+5j)\n",
      "____________________________________________________________________________________________________\n",
      "19.999999999999996j\n",
      "____________________________________________________________________________________________________\n",
      "[[ 0.9 +0.j    5.8 +0.j   -7.7 +0.j  ]\n",
      " [ 0.  +0.75j  0.  +4.5j   0.  -6.25j]\n",
      " [ 0.05+0.j    0.1 +0.j   -0.15-0.j  ]]\n"
     ]
    }
   ],
   "source": [
    "test=np.array([[1,2j,32],[4,5j,3],[3,4j,6]])\n",
    "print(test)\n",
    "print(\"__\"*50)\n",
    "print(np.linalg.matrix_rank(test))\n",
    "print(\"__\"*50)\n",
    "print(np.trace(test))\n",
    "print(\"__\"*50)\n",
    "print(np.linalg.det(test))\n",
    "print(\"__\"*50)\n",
    "print(np.linalg.inv(test))"
   ]
  },
  {
   "cell_type": "markdown",
   "id": "c99d32ad-fa92-4ba6-98eb-441785cb0386",
   "metadata": {},
   "source": [
    "### Power of Matrix"
   ]
  },
  {
   "cell_type": "code",
   "execution_count": 153,
   "id": "595da974-7431-41e2-92af-524b452c2f6b",
   "metadata": {},
   "outputs": [
    {
     "data": {
      "text/plain": [
       "array([[ 729. +546.j, -690.+1040.j, 4418. +682.j],\n",
       "       [ 351. +145.j, -200. +485.j, 1217. +790.j],\n",
       "       [ 337. +172.j, -230. +470.j, 1404. +674.j]])"
      ]
     },
     "execution_count": 153,
     "metadata": {},
     "output_type": "execute_result"
    }
   ],
   "source": [
    "np.linalg.matrix_power(test,3)"
   ]
  },
  {
   "cell_type": "markdown",
   "id": "6b8a6417-1002-4439-9c2c-79ac6509caef",
   "metadata": {},
   "source": [
    "# Eigen vector"
   ]
  },
  {
   "cell_type": "code",
   "execution_count": 156,
   "id": "621e215d-cf8e-45fb-a689-e5a2c7423142",
   "metadata": {},
   "outputs": [
    {
     "name": "stdout",
     "output_type": "stream",
     "text": [
      "[[1 2]\n",
      " [3 4]]\n",
      "[-0.85410197  5.85410197]\n",
      "[[-0.85065081  0.52573111]\n",
      " [ 0.52573111  0.85065081]]\n"
     ]
    }
   ],
   "source": [
    "test1=np.array([[1,2],[3,4]])\n",
    "print(test1)\n",
    "print()\n",
    "c,d=np.linalg.eigh(test1)\n",
    "print(c)\n",
    "print()\n",
    "print(d)"
   ]
  },
  {
   "cell_type": "markdown",
   "id": "95d2e703-0322-4a4e-a418-3ab3b5d94b72",
   "metadata": {},
   "source": [
    "## Transpose(Row to Coloumn ,Coloumn to Row)"
   ]
  },
  {
   "cell_type": "code",
   "execution_count": 158,
   "id": "ca718589-98d1-4b31-a1ed-1b59142236c5",
   "metadata": {},
   "outputs": [
    {
     "data": {
      "text/plain": [
       "array([[1, 3],\n",
       "       [2, 4]])"
      ]
     },
     "execution_count": 158,
     "metadata": {},
     "output_type": "execute_result"
    }
   ],
   "source": [
    "np.transpose(test1)"
   ]
  },
  {
   "cell_type": "markdown",
   "id": "a58cb203-3747-435c-9e86-95c43694ceec",
   "metadata": {},
   "source": [
    "## Mean,Mode And Median"
   ]
  },
  {
   "cell_type": "code",
   "execution_count": 166,
   "id": "07257b1c-2a6b-4430-8967-c0d54faa0e28",
   "metadata": {},
   "outputs": [
    {
     "name": "stdout",
     "output_type": "stream",
     "text": [
      "67.83333333333333\n",
      "ModeResult(mode=43, count=2)\n",
      "38.5\n"
     ]
    }
   ],
   "source": [
    "from scipy import stats \n",
    "speed=np.array([1,2,3,4,5,5,6,7])\n",
    "feq=np.array([34,23,32,43,43,232])\n",
    "m=np.mean(speed)\n",
    "m=np.mean(feq)\n",
    "print(m)\n",
    "m1=stats.mode(speed)\n",
    "m1=stats.mode(feq)\n",
    "print(m1)\n",
    "m2=np.median(speed)\n",
    "m2=np.median(feq)\n",
    "print(m2)"
   ]
  },
  {
   "cell_type": "markdown",
   "id": "426f9989-8c84-46e0-819e-394cc0b7a9d1",
   "metadata": {},
   "source": [
    "## Standard Deviation"
   ]
  },
  {
   "cell_type": "code",
   "execution_count": 170,
   "id": "52b0084c-e433-4d64-899c-53defbc08b83",
   "metadata": {},
   "outputs": [
    {
     "name": "stdout",
     "output_type": "stream",
     "text": [
      "25.20912533191106\n",
      "635.5\n"
     ]
    }
   ],
   "source": [
    "speed=np.array([53,62,73,23,23,21,87,78,])\n",
    "print(speed.std())\n",
    "print(speed.var())"
   ]
  },
  {
   "cell_type": "markdown",
   "id": "bf46e257-a0cb-44fa-9e08-04f17c837fb2",
   "metadata": {},
   "source": [
    "## Percentile"
   ]
  },
  {
   "cell_type": "code",
   "execution_count": 182,
   "id": "596a66c2-589c-4d13-80e4-ce1d996404ca",
   "metadata": {},
   "outputs": [
    {
     "data": {
      "text/plain": [
       "87.0"
      ]
     },
     "execution_count": 182,
     "metadata": {},
     "output_type": "execute_result"
    }
   ],
   "source": [
    "speed1=np.array([53,62,73,23,23,21,87,78,34])\n",
    "np.percentile(speed,100)"
   ]
  },
  {
   "cell_type": "code",
   "execution_count": null,
   "id": "1d8d852a-cc3f-40bc-9fc9-097e099574db",
   "metadata": {},
   "outputs": [],
   "source": []
  }
 ],
 "metadata": {
  "kernelspec": {
   "display_name": "Python 3 (ipykernel)",
   "language": "python",
   "name": "python3"
  },
  "language_info": {
   "codemirror_mode": {
    "name": "ipython",
    "version": 3
   },
   "file_extension": ".py",
   "mimetype": "text/x-python",
   "name": "python",
   "nbconvert_exporter": "python",
   "pygments_lexer": "ipython3",
   "version": "3.12.4"
  }
 },
 "nbformat": 4,
 "nbformat_minor": 5
}
